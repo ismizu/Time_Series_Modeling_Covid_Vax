{
 "cells": [
  {
   "cell_type": "markdown",
   "metadata": {},
   "source": [
    "# Visualizing COVID Hospitalizations and Fatalities based on Vaccination Rate"
   ]
  },
  {
   "cell_type": "markdown",
   "metadata": {},
   "source": [
    "The purpose of this project is two fold:\n",
    "1. Predict the hospitalizations and fatalities due to COVID-19 for the next four weeks\n",
    "    - Providing insight for healthcare facilities, vaccination clinics\n",
    "2. Provide a sliding-scale to alter vaccination rates, visualizing the results\n",
    "    - Visualize what a higher or lower vaccination rate could have led to in terms of hospitalizations and fatalities"
   ]
  },
  {
   "cell_type": "markdown",
   "metadata": {},
   "source": [
    "![pexels-artem-podrez-5878514.jpg](https://github.com/ismizu/Time_Series_Modeling_Covid_Vax/blob/main/images/pexels-artem-podrez-5878514.jpg)"
   ]
  },
  {
   "cell_type": "markdown",
   "metadata": {},
   "source": [
    "##### Image by [Artem Podrez](https://www.pexels.com/@artempodrez) from [Pexels](https://www.pexels.com/)"
   ]
  },
  {
   "cell_type": "markdown",
   "metadata": {},
   "source": [
    "## Repository Structure"
   ]
  },
  {
   "cell_type": "markdown",
   "metadata": {},
   "source": [
    "- The base, starting data can be found in the /data folder and was obtained from the [CDC](https://data.cdc.gov/Vaccinations/COVID-19-Vaccinations-in-the-United-States-Jurisdi/unsk-b7fc)\n",
    "\n",
    "- Data updates are retrieved from [Reich Labs](https://reichlab.io/) and their [COVID-19 github repository](https://github.com/reichlab/covid19-forecast-hub#ensemble-model).\n",
    "\n",
    "- All images used throughout the project can be found in the /images folder\n",
    "\n",
    "- /pickled_data contains all updated dataframes as well as any saved checkpoints used throughout the project such as state-divided data, models, model parameters, and graphs\n",
    "\n",
    "### Functions\n",
    "This project largely relies upon the placement of functions within loops. The loops run through each individual state, repeating the function for each one. These functions can be found within the functions.py file.\n",
    "\n",
    "### Project Overview\n",
    "An overview of the project can be found at [this slide deck](https://docs.google.com/presentation/d/1z3zzTOvnFKVS_X-35wsUMyr73-Xmh90ihaLCswBJGPs/edit?usp=sharing).\n",
    "\n",
    "### Contributor\n",
    "Project by [Isana Mizuma](https://github.com/ismizu)"
   ]
  },
  {
   "cell_type": "markdown",
   "metadata": {},
   "source": [
    "# Maintaining Data"
   ]
  },
  {
   "cell_type": "markdown",
   "metadata": {},
   "source": [
    "One of the top items that this project addresses is updateability. The COVID-19 pandemic is an ongoing event. As such, a static prediction made at the time of project completion would soon lose efficacy.\n",
    "\n",
    "With this in mind, the individual pieces that amalgamate into the final product were all made to run with minimal user input. From data cleaning, to preparing models, to creating each figure; the individual pieces were designed to process each state's outcome through the use of scripts. Thus, when the data is updated, each piece can rapidly be re-run to create the final product."
   ]
  },
  {
   "cell_type": "markdown",
   "metadata": {},
   "source": [
    "This updated dataframe is later assigned to the variable \"vax_df_clean\" for use in the full data cleaning function.\n",
    "\n",
    "Below, the following data is retrieved from Reich Lab at UMass-Amherst.\n",
    "- COVID-19 hospitalizations and fatalities\n",
    "- Outliers identified by Reich Lab to help the models identify them\n",
    "> Data is obtained outside of the function as the function is intended to run through a loop and separate data by state. Placing the calls within the function would cause it to re-read the data every time, considerably increasing execution time.\n",
    "\n",
    "A loop is run to allow the data to be separated/updated on a per-state basis."
   ]
  },
  {
   "cell_type": "markdown",
   "metadata": {},
   "source": [
    "![data_clean_loop.png](https://github.com/ismizu/Time_Series_Modeling_Covid_Vax/blob/main/images/data_clean_loop.png)"
   ]
  },
  {
   "cell_type": "markdown",
   "metadata": {},
   "source": [
    "![data_per_state_example.png](https://github.com/ismizu/Time_Series_Modeling_Covid_Vax/blob/main/images/data_per_state_example.png)"
   ]
  },
  {
   "cell_type": "markdown",
   "metadata": {},
   "source": [
    "# Modeling"
   ]
  },
  {
   "cell_type": "markdown",
   "metadata": {},
   "source": [
    "Following the creation of state-dependent dataframes, a function is used to create the models. The steps are as follows:\n",
    "1. Retrieve state-dependent data\n",
    "2. Run future vaccination predictions\n",
    "3. Create models for hospitalization/fatality predictions\n",
    "4. Save and export the models\n",
    ">Vaccination numbers are used as exogenous variables to predict hospitalizations and fatalities. As such, their future values are needed in order to make future predictions on hospitalizations and fatalities. Therefore, an additional machine learning model is required to create those predictions."
   ]
  },
  {
   "cell_type": "markdown",
   "metadata": {},
   "source": [
    "With the created models, visualizations are then created.\n",
    "\n",
    "The visualizations allow for alterations of vaccinations rates and show the potential changes in hospitalizations and fatalities should the vaccination rate reach, or fall, to such a level."
   ]
  },
  {
   "cell_type": "markdown",
   "metadata": {},
   "source": [
    "![readme_nj_example.png](https://github.com/ismizu/Time_Series_Modeling_Covid_Vax/blob/main/images/readme_nj_example.png)"
   ]
  },
  {
   "cell_type": "markdown",
   "metadata": {},
   "source": [
    "The above is an example of the function's output.\n",
    "\n",
    "With everything ready, the figure creation function is run for all states."
   ]
  },
  {
   "cell_type": "markdown",
   "metadata": {},
   "source": [
    "# Final Statements"
   ]
  },
  {
   "cell_type": "markdown",
   "metadata": {},
   "source": [
    "Overall, the use of scripts was successful in creating a final product that could be repeated on a per-state level.\n",
    "\n",
    "The project's first use was for COVID hospitalizations and fatalities predictions one months out. Unfortunately, in order to fulfill the project's second usage, visualizing the effect of vaccination rates, the accuracy of these predictions had to be negatively altered.\n",
    "\n",
    "However, I viewed the trade-off in a positive light. The first usage, predictions of rates, is still fulfilled. Despite a lowered rate of accuracy, the ability to visualize what might happen, and what could have been, is something I view as more invaluable. Thus, I view the trade-off as a worthy loss."
   ]
  }
 ],
 "metadata": {
  "kernelspec": {
   "display_name": "Python 3",
   "language": "python",
   "name": "python3"
  },
  "language_info": {
   "codemirror_mode": {
    "name": "ipython",
    "version": 3
   },
   "file_extension": ".py",
   "mimetype": "text/x-python",
   "name": "python",
   "nbconvert_exporter": "python",
   "pygments_lexer": "ipython3",
   "version": "3.8.5"
  },
  "toc": {
   "base_numbering": 1,
   "nav_menu": {},
   "number_sections": true,
   "sideBar": true,
   "skip_h1_title": false,
   "title_cell": "Table of Contents",
   "title_sidebar": "Contents",
   "toc_cell": false,
   "toc_position": {},
   "toc_section_display": true,
   "toc_window_display": false
  },
  "varInspector": {
   "cols": {
    "lenName": 16,
    "lenType": 16,
    "lenVar": 40
   },
   "kernels_config": {
    "python": {
     "delete_cmd_postfix": "",
     "delete_cmd_prefix": "del ",
     "library": "var_list.py",
     "varRefreshCmd": "print(var_dic_list())"
    },
    "r": {
     "delete_cmd_postfix": ") ",
     "delete_cmd_prefix": "rm(",
     "library": "var_list.r",
     "varRefreshCmd": "cat(var_dic_list()) "
    }
   },
   "types_to_exclude": [
    "module",
    "function",
    "builtin_function_or_method",
    "instance",
    "_Feature"
   ],
   "window_display": false
  }
 },
 "nbformat": 4,
 "nbformat_minor": 4
}
