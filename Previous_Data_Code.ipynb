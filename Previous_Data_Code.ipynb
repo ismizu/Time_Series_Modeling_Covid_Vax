{
 "cells": [
  {
   "cell_type": "markdown",
   "metadata": {
    "ExecuteTime": {
     "end_time": "2021-07-28T21:48:19.068264Z",
     "start_time": "2021-07-28T21:48:19.047412Z"
    }
   },
   "source": [
    "Links\n",
    "- US vaccine tracker\n",
    "    - https://www.mayoclinic.org/coronavirus-covid-19/vaccine-tracker/\n",
    "    - https://usafacts.org/visualizations/covid-vaccine-tracker-states/\n",
    "- Interactive world wide tracker\n",
    "    - https://ourworldindata.org/covid-vaccinations\n",
    "- **vaccine data - https://data.cdc.gov/Vaccinations/COVID-19-Vaccinations-in-the-United-States-Jurisdi/unsk-b7fc\n",
    "- **cases/deaths - https://data.cdc.gov/Case-Surveillance/United-States-COVID-19-Cases-and-Deaths-by-State-o/9mfq-cb36\n",
    "- **forecast - https://covid.cdc.gov/covid-data-tracker/#forecasting_weeklydeaths\n",
    "- **hospitalizations - https://gis.cdc.gov/grasp/COVIDNet/COVID19_5.html\n",
    "- **hopitalizations data - https://www.cdc.gov/coronavirus/2019-ncov/science/forecasting/hospitalizations-forecasts.html\n",
    "- **the repository - https://github.com/reichlab/covid19-forecast-hub#ensemble-model\n",
    "\n",
    "http://localhost:8888/notebooks/Documents/UDEMY/UDEMY_TSA_FINAL/UDEMY_TSA_FINAL/08-Prophet-Library/01-Prophet-Forecast-Evaluations.ipynb\n",
    "\n",
    "https://github.com/nicolasfauchereau/Auckland_Cycling/blob/master/notebooks/paper_day_weather.ipynb"
   ]
  },
  {
   "cell_type": "markdown",
   "metadata": {},
   "source": [
    "# Read In"
   ]
  },
  {
   "cell_type": "code",
   "execution_count": null,
   "metadata": {},
   "outputs": [],
   "source": [
    "df = pd.read_csv('data/COVID-19_Vaccinations_in_the_United_States_Jurisdiction.csv')"
   ]
  },
  {
   "cell_type": "code",
   "execution_count": null,
   "metadata": {},
   "outputs": [],
   "source": [
    "df[df['Location'] == 'NJ'][['Date', 'Distributed', 'Dist_Per_100K',\n",
    "                            'Administered', 'Admin_Per_100K', 'Administered_Dose1_Pop_Pct']]"
   ]
  },
  {
   "cell_type": "code",
   "execution_count": null,
   "metadata": {},
   "outputs": [],
   "source": [
    "fatal_df = pd.read_csv('data/United_States_COVID-19_Cases_and_Deaths_by_State_over_Time.csv')"
   ]
  },
  {
   "cell_type": "code",
   "execution_count": null,
   "metadata": {},
   "outputs": [],
   "source": [
    "fatal_df['submission_date'] = pd.to_datetime(fatal_df['submission_date'])"
   ]
  },
  {
   "cell_type": "code",
   "execution_count": null,
   "metadata": {},
   "outputs": [],
   "source": [
    "fatal_df.columns"
   ]
  },
  {
   "cell_type": "code",
   "execution_count": null,
   "metadata": {},
   "outputs": [],
   "source": [
    "fatal_df[fatal_df['state'] == 'NJ'].sort_values(by = 'submission_date')[['submission_date', 'new_case']]"
   ]
  },
  {
   "cell_type": "code",
   "execution_count": 5,
   "metadata": {
    "ExecuteTime": {
     "end_time": "2021-07-20T04:03:35.635239Z",
     "start_time": "2021-07-20T04:03:35.627255Z"
    }
   },
   "outputs": [],
   "source": [
    "states = {\n",
    "        'AK': 'Alaska',\n",
    "        'AL': 'Alabama',\n",
    "        'AR': 'Arkansas',\n",
    "        'AZ': 'Arizona',\n",
    "        'CA': 'California',\n",
    "        'CO': 'Colorado',\n",
    "        'CT': 'Connecticut',\n",
    "        'DE': 'Delaware',\n",
    "        'FL': 'Florida',\n",
    "        'GA': 'Georgia',\n",
    "        'HI': 'Hawaii',\n",
    "        'IA': 'Iowa',\n",
    "        'ID': 'Idaho',\n",
    "        'IL': 'Illinois',\n",
    "        'IN': 'Indiana',\n",
    "        'KS': 'Kansas',\n",
    "        'KY': 'Kentucky',\n",
    "        'LA': 'Louisiana',\n",
    "        'MA': 'Massachusetts',\n",
    "        'MD': 'Maryland',\n",
    "        'ME': 'Maine',\n",
    "        'MI': 'Michigan',\n",
    "        'MN': 'Minnesota',\n",
    "        'MO': 'Missouri',\n",
    "        'MS': 'Mississippi',\n",
    "        'MT': 'Montana',\n",
    "        'NC': 'North Carolina',\n",
    "        'ND': 'North Dakota',\n",
    "        'NE': 'Nebraska',\n",
    "        'NH': 'New Hampshire',\n",
    "        'NJ': 'New Jersey',\n",
    "        'NM': 'New Mexico',\n",
    "        'NV': 'Nevada',\n",
    "        'NY': 'New York',\n",
    "        'OH': 'Ohio',\n",
    "        'OK': 'Oklahoma',\n",
    "        'OR': 'Oregon',\n",
    "        'PA': 'Pennsylvania',\n",
    "        'RI': 'Rhode Island',\n",
    "        'SC': 'South Carolina',\n",
    "        'SD': 'South Dakota',\n",
    "        'TN': 'Tennessee',\n",
    "        'TX': 'Texas',\n",
    "        'UT': 'Utah',\n",
    "        'VA': 'Virginia',\n",
    "        'VT': 'Vermont',\n",
    "        'WA': 'Washington',\n",
    "        'WI': 'Wisconsin',\n",
    "        'WV': 'West Virginia',\n",
    "        'WY': 'Wyoming'\n",
    "}"
   ]
  },
  {
   "cell_type": "code",
   "execution_count": null,
   "metadata": {},
   "outputs": [],
   "source": [
    "states = {\n",
    "        #'AK': 'fate work, hosp opp', FIXED\n",
    "        #'AL': 'fate work, hosp opp', FIXED? value actual for hosp massive rise at end\n",
    "        #'AR': 'OK',\n",
    "        #'AZ': 'OK',\n",
    "        #'CA': 'glitch at 2X, very linear', FIXED. very good\n",
    "        'CO': 'both opp', broken hosp work, fate opp\n",
    "        #'CT': 'OK',\n",
    "        #'DE': 'fate work, hosp opp', FIXED. okay\n",
    "        #'FL': 'glitch at 2X, very linear', FIXED strong change but makes sense with data\n",
    "        #'GA': 'very linear', FIXED, still linear, but working\n",
    "        'HI': 'very off', hosp work, fate opp, almost good.\n",
    "        #'IA': 'Almost OK',\n",
    "        #'ID': 'OK',\n",
    "        #'IL': 'OK',\n",
    "        #'IN': 'fate work, hosp opp', FIXED\n",
    "        #'KS': 'fate work, hosp opp', FIXED\n",
    "        #'KY': 'fate work, hosp opp', FIXED\n",
    "        #'LA': 'too linear', FIXED\n",
    "        #'MA': 'OK',\n",
    "        #'MD': 'fate glitch at 2X', FIXED, still a bit odd\n",
    "        #'ME': 'too linear', FIXED\n",
    "        #'MI': 'hosp work, fate opp', FIXED\n",
    "        'MN': 'hosp work, fate opp',\n",
    "        #'MO': 'OK',\n",
    "        #'MS': 'too linear', FIXED\n",
    "        #'MT': 'fate work, hosp opp', FIXED\n",
    "        #'NC': 'too linear', FIXED\n",
    "        #'ND': 'OK',\n",
    "        #'NE': 'both opp', FIXED\n",
    "        'NH': 'fate work, hosp opp', hosp still opp\n",
    "        #'NJ': 'OK',\n",
    "        #'NM': 'OK',\n",
    "        #'NV': 'hosp work, fate opp', FIXED\n",
    "        #'NY': 'OK',\n",
    "        #'OH': 'OK',\n",
    "        #'OK': 'hosp opp, fate iffy', FIXED\n",
    "        'OR': 'hosp work, fate opp', fate still opp\n",
    "        'PA': 'fate work, hosp opp',\n",
    "        #'RI': 'fate work, hosp opp', FIXED\n",
    "        #'SC': 'too linear', FIXED\n",
    "        #'SD': 'works, graph odd', FIXED\n",
    "        #'TN': 'fate work, hosp odd', FIXED\n",
    "        #'TX': 'ok, too linear', FIXED\n",
    "        #'UT': 'fate odd, hosp opp', FIXED\n",
    "        #'VA': 'odd, too linear', FIXED\n",
    "        #'VT': 'ok, too linear', FIXED\n",
    "        #'WA': 'fate work, hosp opp', FIXED. changes bit drastic\n",
    "        #'WI': 'hosp work, fate opp', Hosp working, fate not really\n",
    "        'WV': 'fate work, hosp opp',\n",
    "        #'WY': 'Almost OK' FIXED\n",
    "}"
   ]
  },
  {
   "cell_type": "markdown",
   "metadata": {},
   "source": [
    "# Checks"
   ]
  },
  {
   "cell_type": "code",
   "execution_count": null,
   "metadata": {},
   "outputs": [],
   "source": [
    "#Read in static data\n",
    "vax_df = pd.read_csv('data/COVID-19_Vaccinations_in_the_United_States_Jurisdiction.csv')\n",
    "#Keep necessary columns\n",
    "vax_df = vax_df[['Date', 'Location', 'Dist_Per_100K', 'Admin_Per_100K',\n",
    "                 'Administered_Dose1_Pop_Pct', 'Series_Complete_Pop_Pct']]\n",
    "\n",
    "#-- Lowercase all columns to match api format --#\n",
    "\n",
    "#Create dict for rename\n",
    "uppercase_columns = vax_df.columns.tolist()\n",
    "lowercase_columns = [x.lower() for x in vax_df.columns.tolist()]\n",
    "column_dict = {x: y for x, y in list(zip(uppercase_columns, lowercase_columns))}\n",
    "\n",
    "#Rename columns and change date format\n",
    "vax_df.rename(columns = column_dict, inplace = True)\n",
    "vax_df['date'] = pd.to_datetime(vax_df['date'])\n",
    "vax_df_clean = vax_df.copy()\n",
    "\n",
    "vax_df_clean.drop(columns = ['dist_per_100k', 'admin_per_100k'], inplace = True)\n",
    "\n",
    "#Pickle dataframe\n",
    "pickle_out = open(\"pickle/vax_df_clean.pickle\",\"wb\")\n",
    "pickle.dump(vax_df_clean, pickle_out)\n",
    "pickle_out.close()"
   ]
  },
  {
   "cell_type": "code",
   "execution_count": null,
   "metadata": {},
   "outputs": [],
   "source": [
    "anomaly_revision_hospitalizations = pd.read_csv('https://raw.githubusercontent.com/reichlab/covid19-forecast-hub/master/data-anomalies/revisions-inc-hosp.csv')\n",
    "anomaly_revision_hospitalizations\n",
    "\n",
    "hospitalizations_df[(hospitalizations_df['location_name'] == 'New Jersey') &\n",
    "                    (hospitalizations_df['date'] == '2020-11-20')]\n",
    "\n",
    "#Anomaly revision check\n",
    "    #Fixes already implemented in final dataframe\n",
    "anomaly_revision_hospitalizations[(anomaly_revision_hospitalizations['location_name'] == 'New Jersey') &\n",
    "                                  (anomaly_revision_hospitalizations['date'] == '2020-11-20')]"
   ]
  },
  {
   "cell_type": "code",
   "execution_count": null,
   "metadata": {},
   "outputs": [],
   "source": [
    "#pickle_out = open(\"pickle/vax_df_clean.pickle\",\"wb\")\n",
    "#pickle.dump(vax_df_clean, pickle_out)\n",
    "#pickle_out.close()\n",
    "\n",
    "infile = open(\"pickle/vax_df_clean.pickle\",'rb')\n",
    "vax_df_clean = pickle.load(infile)\n",
    "infile.close()\n",
    "\n",
    "vax_df_clean"
   ]
  },
  {
   "cell_type": "markdown",
   "metadata": {},
   "source": [
    "# ARIMA"
   ]
  },
  {
   "cell_type": "code",
   "execution_count": null,
   "metadata": {},
   "outputs": [],
   "source": [
    "nj_test_df = df[df['Location'] == 'NJ'][['Date', 'Distributed', 'Dist_Per_100K',\n",
    "                            'Administered', 'Admin_Per_100K', 'Administered_Dose1_Pop_Pct']]\n",
    "nj_test_df['Date'] = pd.to_datetime(nj_test_df['Date'])\n",
    "\n",
    "nj_fatal_test_df = fatal_df[fatal_df['state'] == 'NJ'].sort_values(by = 'submission_date')[['submission_date', 'new_death']]\n",
    "nj_fatal_test_df.rename(columns = {'submission_date': 'Date'}, inplace = True)\n",
    "\n",
    "nj_fatal_test_df.drop(index = nj_fatal_test_df[nj_fatal_test_df['Date'] == '2021-07-05'].index[0], inplace = True)\n",
    "\n",
    "nj_fatal_test_df['new_death'] = np.where(nj_fatal_test_df['new_death'] < 0, 3,\n",
    "                                         np.where(nj_fatal_test_df['new_death'] == 190, 3,\n",
    "                                                  nj_fatal_test_df['new_death']))\n",
    "\n",
    "nj_test_df.set_index(keys = 'Date', drop = True, inplace = True)\n",
    "nj_fatal_test_df.set_index(keys = 'Date', drop = True, inplace = True)\n",
    "test_df = pd.concat([nj_test_df, nj_fatal_test_df], join = 'outer', axis = 1)\n",
    "test_df = test_df.fillna(0)\n",
    "#test_df = test_df.resample('W').mean()"
   ]
  },
  {
   "cell_type": "code",
   "execution_count": null,
   "metadata": {},
   "outputs": [],
   "source": [
    "test_df.describe()"
   ]
  },
  {
   "cell_type": "code",
   "execution_count": null,
   "metadata": {},
   "outputs": [],
   "source": [
    "seasonal_decompose(test_df['new_death'], model = 'additive').plot();"
   ]
  },
  {
   "cell_type": "code",
   "execution_count": null,
   "metadata": {},
   "outputs": [],
   "source": [
    "test_train = test_df.iloc[:len(test_df) - 10]\n",
    "test_test = test_df.iloc[len(test_df) - 10:]"
   ]
  },
  {
   "cell_type": "code",
   "execution_count": null,
   "metadata": {},
   "outputs": [],
   "source": [
    "p = d = q = range(0, 3)\n",
    "pdq = list(itertools.product(p, d, q))\n",
    "seasonal_pdq = [(x[0], x[1], x[2], 7) for x in list(itertools.product(p, d, q))]"
   ]
  },
  {
   "cell_type": "code",
   "execution_count": null,
   "metadata": {},
   "outputs": [],
   "source": [
    "parameter_results = pd.DataFrame(columns = ['order', 'seasonal_order', 'aic'])\n",
    "\n",
    "for param in pdq:\n",
    "    for param_seasonal in seasonal_pdq:\n",
    "        try:\n",
    "            mod=SARIMAX(test_train['new_death'],\n",
    "                        exog = test_train[['Admin_Per_100K', 'Administered_Dose1_Pop_Pct']],\n",
    "                        order=param,\n",
    "                        seasonal_order=param_seasonal,\n",
    "                        enforce_stationarity=False,\n",
    "                        enforce_invertibility=False)\n",
    "            results = mod.fit()\n",
    "            parameter_results = parameter_results.append({'order': param,\n",
    "                                                          'seasonal_order': param_seasonal,\n",
    "                                                          'aic': results.aic},\n",
    "                                                         ignore_index = True)\n",
    "            print(f'Tested {param}, {param_seasonal}.')\n",
    "        except: \n",
    "            print('Oops!')\n",
    "            continue"
   ]
  },
  {
   "cell_type": "code",
   "execution_count": null,
   "metadata": {},
   "outputs": [],
   "source": [
    "#pickle_out = open(\"pickle/parameter_results.pickle\",\"wb\")\n",
    "#pickle.dump(parameter_results, pickle_out)\n",
    "#pickle_out.close()\n",
    "\n",
    "infile = open(\"pickle/parameter_results.pickle\",'rb')\n",
    "parameter_results = pickle.load(infile)\n",
    "infile.close()"
   ]
  },
  {
   "cell_type": "code",
   "execution_count": null,
   "metadata": {},
   "outputs": [],
   "source": [
    "lowest_aic = parameter_results.sort_values('aic', ascending = True).head(1)"
   ]
  },
  {
   "cell_type": "code",
   "execution_count": null,
   "metadata": {},
   "outputs": [],
   "source": [
    "sari=SARIMAX(test_train['new_death'],\n",
    "            exog = test_train[['Admin_Per_100K', 'Administered_Dose1_Pop_Pct']],\n",
    "            order=lowest_aic['order'].values[0],\n",
    "            seasonal_order=lowest_aic['seasonal_order'].values[0],\n",
    "            enforce_stationarity=False,\n",
    "            enforce_invertibility=False).fit()"
   ]
  },
  {
   "cell_type": "code",
   "execution_count": null,
   "metadata": {},
   "outputs": [],
   "source": [
    "sari_predict = sari.predict(dynamic = False,\n",
    "#                            typ = 'levels',\n",
    "                            exog = test_df[['Admin_Per_100K', 'Administered_Dose1_Pop_Pct']]\n",
    ")"
   ]
  },
  {
   "cell_type": "code",
   "execution_count": null,
   "metadata": {},
   "outputs": [],
   "source": [
    "ax = test_df['new_death'].plot(legend=True,figsize=(12,6))\n",
    "sari_predict.plot(legend=True)\n",
    "ax.autoscale(axis='x', tight=True);"
   ]
  },
  {
   "cell_type": "code",
   "execution_count": null,
   "metadata": {},
   "outputs": [],
   "source": [
    "sari_test_predict = sari.predict(dynamic = len(test_train)-80,\n",
    "                                 exog = test_df[['Admin_Per_100K', 'Administered_Dose1_Pop_Pct']]*.02\n",
    ")"
   ]
  },
  {
   "cell_type": "code",
   "execution_count": null,
   "metadata": {},
   "outputs": [],
   "source": [
    "ax = test_df['new_death'].plot(legend=True,figsize=(12,6))\n",
    "sari_predict.plot(legend=True)\n",
    "sari_test_predict.plot(legend=True)\n",
    "ax.autoscale(axis='x', tight=True);"
   ]
  },
  {
   "cell_type": "code",
   "execution_count": null,
   "metadata": {},
   "outputs": [],
   "source": [
    "test_df_week = test_df.resample('W').mean()"
   ]
  },
  {
   "cell_type": "code",
   "execution_count": null,
   "metadata": {},
   "outputs": [],
   "source": [
    "p = d = q = range(0, 3)\n",
    "pdq = list(itertools.product(p, d, q))\n",
    "seasonal_pdq = [(x[0], x[1], x[2], 4) for x in list(itertools.product(p, d, q))]"
   ]
  },
  {
   "cell_type": "code",
   "execution_count": null,
   "metadata": {},
   "outputs": [],
   "source": [
    "arima_parameter_results = pd.DataFrame(columns = ['order', 'seasonal_order', 'aic'])\n",
    "\n",
    "for param in pdq:\n",
    "    for param_seasonal in seasonal_pdq:\n",
    "        try:\n",
    "            mod=SARIMAX(test_df_week['new_death'],\n",
    "                        exog = test_df_week[['Admin_Per_100K', 'Administered_Dose1_Pop_Pct']],\n",
    "                        order=param,\n",
    "                        seasonal_order=param_seasonal,\n",
    "                        enforce_stationarity=False,\n",
    "                        enforce_invertibility=False)\n",
    "            results = mod.fit()\n",
    "            arima_parameter_results = arima_parameter_results.append({'order': param,\n",
    "                                                          'seasonal_order': param_seasonal,\n",
    "                                                          'aic': results.aic},\n",
    "                                                         ignore_index = True)\n",
    "            print(f'Tested {param}, {param_seasonal}.')\n",
    "        except: \n",
    "            print('Oops!')\n",
    "            continue"
   ]
  },
  {
   "cell_type": "code",
   "execution_count": null,
   "metadata": {},
   "outputs": [],
   "source": [
    "week_lowest_aic = arima_parameter_results.sort_values('aic', ascending = True).head(1)"
   ]
  },
  {
   "cell_type": "code",
   "execution_count": null,
   "metadata": {},
   "outputs": [],
   "source": [
    "sari_week=SARIMAX(test_df_week['new_death'],\n",
    "            exog = test_df_week[['Admin_Per_100K', 'Administered_Dose1_Pop_Pct']],\n",
    "            order=week_lowest_aic['order'].values[0],\n",
    "            seasonal_order=week_lowest_aic['seasonal_order'].values[0],\n",
    "            enforce_stationarity=False,\n",
    "            enforce_invertibility=False).fit()"
   ]
  },
  {
   "cell_type": "code",
   "execution_count": null,
   "metadata": {},
   "outputs": [],
   "source": [
    "sari_week_predict = sari_week.predict(dynamic = False,\n",
    "#                            typ = 'levels',\n",
    "                            exog = test_df_week[['Admin_Per_100K', 'Administered_Dose1_Pop_Pct']]\n",
    ")\n",
    "sari_week_test_predict = sari_week.predict(dynamic = len(test_df_week)-4,\n",
    "                                 exog = test_df_week[['Admin_Per_100K', 'Administered_Dose1_Pop_Pct']]\n",
    ")\n",
    "\n",
    "ax = test_df_week['new_death'].plot(legend=True,figsize=(12,6))\n",
    "sari_week_predict.plot(legend=True)\n",
    "sari_week_test_predict.plot(legend=True)\n",
    "ax.autoscale(axis='x', tight=True);"
   ]
  },
  {
   "cell_type": "markdown",
   "metadata": {},
   "source": [
    "# Prophet"
   ]
  },
  {
   "cell_type": "code",
   "execution_count": null,
   "metadata": {},
   "outputs": [],
   "source": [
    "proph_test_df = test_df.copy().resample('W').mean()\n",
    "proph_test_df.reset_index(inplace = True)\n",
    "proph_test_df.rename(columns = {'Date': 'ds',\n",
    "                                'new_death': 'y'},\n",
    "                     inplace = True)\n",
    "proph_test_df"
   ]
  },
  {
   "cell_type": "code",
   "execution_count": null,
   "metadata": {},
   "outputs": [],
   "source": [
    "m = Prophet(n_changepoints = 30,\n",
    "            seasonality_mode = 'multiplicative',\n",
    "            changepoint_prior_scale = 3)\n",
    "m.add_regressor('Administered_Dose1_Pop_Pct')\n",
    "\n",
    "m.fit(proph_test_df[['ds', 'y', 'Administered_Dose1_Pop_Pct']][:65])"
   ]
  },
  {
   "cell_type": "code",
   "execution_count": null,
   "metadata": {},
   "outputs": [],
   "source": [
    "future = m.make_future_dataframe(periods=10)\n",
    "future['Administered_Dose1_Pop_Pct'] = proph_test_df['Administered_Dose1_Pop_Pct']\n",
    "forecast = m.predict(future)\n",
    "\n",
    "future2 = m.make_future_dataframe(periods=10)\n",
    "future2['Administered_Dose1_Pop_Pct'] = proph_test_df['Administered_Dose1_Pop_Pct']*.05\n",
    "forecast2 = m.predict(future2)\n",
    "\n",
    "fig = m.plot(forecast)\n",
    "a = add_changepoints_to_plot(fig.gca(), m, forecast);"
   ]
  },
  {
   "cell_type": "code",
   "execution_count": null,
   "metadata": {},
   "outputs": [],
   "source": [
    "ax = proph_test_df.plot(x = 'ds', y = 'y', legend=True, figsize=(12,6))\n",
    "forecast.plot(x = 'ds', y = 'yhat', ax = ax, legend=True)\n",
    "forecast2.plot(x = 'ds', y = 'yhat', ax = ax, legend=True);"
   ]
  },
  {
   "cell_type": "code",
   "execution_count": null,
   "metadata": {},
   "outputs": [],
   "source": [
    "m.plot_components(forecast);"
   ]
  },
  {
   "cell_type": "code",
   "execution_count": null,
   "metadata": {},
   "outputs": [],
   "source": [
    "ax2 = state_hospitalizations[:-4].plot(x = 'ds', y = 'y', legend=True, figsize=(12,6))\n",
    "hosp_forecast.plot(x = 'ds', y = 'yhat', ax = ax2, legend=True);"
   ]
  },
  {
   "cell_type": "code",
   "execution_count": null,
   "metadata": {},
   "outputs": [],
   "source": [
    "ax = state_deaths[:-4].plot(x = 'ds', y = 'y', legend=True, figsize=(12,6))\n",
    "deaths_forecast.plot(x = 'ds', y = 'yhat', ax = ax, legend=True);"
   ]
  },
  {
   "cell_type": "code",
   "execution_count": null,
   "metadata": {},
   "outputs": [],
   "source": [
    "deaths_model.plot_components(deaths_forecast);"
   ]
  },
  {
   "cell_type": "code",
   "execution_count": null,
   "metadata": {},
   "outputs": [],
   "source": [
    "fig = hosp_model.plot(hosp_forecast)\n",
    "a = add_changepoints_to_plot(fig.gca(), hosp_model, hosp_forecast);"
   ]
  },
  {
   "cell_type": "code",
   "execution_count": null,
   "metadata": {},
   "outputs": [],
   "source": [
    "from prophet.diagnostics import cross_validation, performance_metrics\n",
    "from prophet.plot import plot_cross_validation_metric"
   ]
  },
  {
   "cell_type": "markdown",
   "metadata": {},
   "source": [
    "https://stackoverflow.com/questions/63780573/trying-to-understand-fb-prophet-cross-validation"
   ]
  },
  {
   "cell_type": "code",
   "execution_count": null,
   "metadata": {},
   "outputs": [],
   "source": [
    "cv_test = cross_validation(vax_model, horizon = '4 W')"
   ]
  },
  {
   "cell_type": "code",
   "execution_count": null,
   "metadata": {},
   "outputs": [],
   "source": [
    "ax = dose_one_df.plot(x = 'ds', y = 'y', legend = True, figsize = (12, 6))\n",
    "forecast.plot(x = 'ds', y = 'yhat', ax = ax, legend = True);"
   ]
  },
  {
   "cell_type": "code",
   "execution_count": null,
   "metadata": {},
   "outputs": [],
   "source": [
    "plot_cross_validation_metric(cv_test, metric='rmse');"
   ]
  },
  {
   "cell_type": "code",
   "execution_count": null,
   "metadata": {},
   "outputs": [],
   "source": [
    "def predictions(model, column, dataframe, multiplier):\n",
    "    future = model.make_future_dataframe(periods = 5)\n",
    "    future[column] = dataframe[column] * multiplier\n",
    "    forecast = model.predict(future)\n",
    "    return forecast['ds'], forecast['yhat']"
   ]
  },
  {
   "cell_type": "markdown",
   "metadata": {},
   "source": [
    "# Plotly"
   ]
  },
  {
   "cell_type": "code",
   "execution_count": null,
   "metadata": {},
   "outputs": [],
   "source": [
    "import plotly.graph_objects as go\n",
    "# Create figure\n",
    "fig = go.Figure()\n",
    "\n",
    "# Add traces, one for each slider step\n",
    "for step in np.arange(0, 2, 0.1):\n",
    "    x, y = predictions(m, 'Administered_Dose1_Pop_Pct', proph_test_df, step)\n",
    "    fig.add_trace(\n",
    "        go.Scatter(\n",
    "            visible=False,\n",
    "            line=dict(color=\"#00CED1\", width=6),\n",
    "#            name=\"𝜈 = \" + str(step),\n",
    "            x=x,\n",
    "            y=y))\n",
    "\n",
    "# Make 10th trace visible\n",
    "fig.data[10].visible = True\n",
    "\n",
    "# Create and add slider\n",
    "steps = []\n",
    "for i in range(len(fig.data)):\n",
    "    step = dict(\n",
    "        method=\"update\",\n",
    "        args=[{\"visible\": [False] * len(fig.data)},\n",
    "              {\"title\": \"Vaccine Rate Multipler at: \" + str(i/10)}],\n",
    "    )\n",
    "    step[\"args\"][0][\"visible\"][i] = True\n",
    "    steps.append(step)\n",
    "\n",
    "sliders = [dict(\n",
    "    active=10,\n",
    "    currentvalue={\"prefix\": \"Vaccination Rate Multiplier: \"},\n",
    "    pad={\"t\": 50},\n",
    "    steps=steps\n",
    ")]\n",
    "\n",
    "fig.update_layout(\n",
    "    sliders=sliders\n",
    ")\n",
    "\n",
    "fig.show()"
   ]
  },
  {
   "cell_type": "code",
   "execution_count": null,
   "metadata": {},
   "outputs": [],
   "source": [
    "# Create figure\n",
    "\n",
    "fig = make_subplots(rows=2, cols=1,\n",
    "                    shared_xaxes = True,\n",
    "                    specs=[[{'type': 'scatter'}],\n",
    "                           [{'type': 'scatter'}]\n",
    "                          ],\n",
    "                    row_heights = [5,\n",
    "                                   10],\n",
    "                    subplot_titles=('Vaccination Rate',\n",
    "                                    'Weekly Hospitalizations & Fatalities')\n",
    "                   )\n",
    "\n",
    "\n",
    "# Add traces, one for each slider step\n",
    "for step in np.arange(0, 2, 0.1):\n",
    "    \n",
    "    death_forecast, hosp_forecast, vax_df = visualization_predictions('NJ', step)\n",
    "    \n",
    "    fig.add_traces(\n",
    "        [\n",
    "        go.Scatter(\n",
    "            visible = False,\n",
    "            line = dict(color = '#00CED1', width=6),\n",
    "            name = 'Fatalities',\n",
    "            x = death_forecast['ds'],\n",
    "            y = death_forecast['yhat']\n",
    "        ),\n",
    "        go.Scatter(\n",
    "            visible = False,\n",
    "            line = dict(color = '#de8e10', width=6),\n",
    "            name = 'Hospitalizations',\n",
    "            x = hosp_forecast['ds'],\n",
    "            y = hosp_forecast['yhat']\n",
    "        )\n",
    "        ],\n",
    "        rows = [2, 2], cols = [1, 1]\n",
    "    )\n",
    "\n",
    "# Make 10th trace visible\n",
    "fig.data[10].visible = True\n",
    "\n",
    "# Create and add slider\n",
    "steps = []\n",
    "for i in range(0, len(fig.data), 1):\n",
    "    step = dict(\n",
    "        method = 'update',\n",
    "        args = [{'visible': [False] * len(fig.data)},\n",
    "                {'title': 'Vaccine Rate Multipler at: ' + str(i/20)}],\n",
    "    )\n",
    "    step['args'][0]['visible'][i] = True\n",
    "    try:\n",
    "        step['args'][0]['visible'][i+1] = True\n",
    "    except:\n",
    "        continue\n",
    "    steps.append(step)\n",
    "\n",
    "sliders = [dict(\n",
    "    active = 10,\n",
    "    currentvalue = {\"prefix\": \"Vaccination Rate Multiplier: \"},\n",
    "    pad = {'t': 50},\n",
    "    steps = steps\n",
    ")]\n",
    "\n",
    "fig.update_layout(\n",
    "    sliders = sliders\n",
    ")\n",
    "\n",
    "fig.show()"
   ]
  }
 ],
 "metadata": {
  "kernelspec": {
   "display_name": "Python 3",
   "language": "python",
   "name": "python3"
  },
  "language_info": {
   "codemirror_mode": {
    "name": "ipython",
    "version": 3
   },
   "file_extension": ".py",
   "mimetype": "text/x-python",
   "name": "python",
   "nbconvert_exporter": "python",
   "pygments_lexer": "ipython3",
   "version": "3.8.5"
  },
  "toc": {
   "base_numbering": 1,
   "nav_menu": {},
   "number_sections": true,
   "sideBar": true,
   "skip_h1_title": false,
   "title_cell": "Table of Contents",
   "title_sidebar": "Contents",
   "toc_cell": false,
   "toc_position": {},
   "toc_section_display": true,
   "toc_window_display": false
  },
  "varInspector": {
   "cols": {
    "lenName": 16,
    "lenType": 16,
    "lenVar": 40
   },
   "kernels_config": {
    "python": {
     "delete_cmd_postfix": "",
     "delete_cmd_prefix": "del ",
     "library": "var_list.py",
     "varRefreshCmd": "print(var_dic_list())"
    },
    "r": {
     "delete_cmd_postfix": ") ",
     "delete_cmd_prefix": "rm(",
     "library": "var_list.r",
     "varRefreshCmd": "cat(var_dic_list()) "
    }
   },
   "types_to_exclude": [
    "module",
    "function",
    "builtin_function_or_method",
    "instance",
    "_Feature"
   ],
   "window_display": false
  }
 },
 "nbformat": 4,
 "nbformat_minor": 4
}
