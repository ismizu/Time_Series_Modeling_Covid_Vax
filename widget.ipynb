{
 "cells": [
  {
   "cell_type": "code",
   "execution_count": 2,
   "metadata": {
    "ExecuteTime": {
     "end_time": "2021-08-01T04:50:20.474892Z",
     "start_time": "2021-08-01T04:50:19.147299Z"
    }
   },
   "outputs": [
    {
     "data": {
      "application/vnd.jupyter.widget-view+json": {
       "model_id": "aa9ee568d0db46039bf4982cd5ea071d",
       "version_major": 2,
       "version_minor": 0
      },
      "text/plain": [
       "Dropdown(description='State:', options=('AK', 'AL', 'AR', 'AZ', 'CA', 'CO', 'CT', 'DE', 'FL', 'GA', 'HI', 'IA'…"
      ]
     },
     "metadata": {},
     "output_type": "display_data"
    }
   ],
   "source": [
    "import pickle\n",
    "from ipywidgets import widgets\n",
    "import streamlit as st\n",
    "\n",
    "load_states_dict = open('pickled_data/general_data/states.pickle','rb')\n",
    "states = pickle.load(load_states_dict)\n",
    "load_states_dict.close()\n",
    "\n",
    "textbox = widgets.Dropdown(\n",
    "    description = 'State:',\n",
    "    options = list(states.keys())\n",
    ")\n",
    "\n",
    "display(textbox)\n",
    "\n",
    "load_figure = widgets.Output()\n",
    "\n",
    "def widget_fig(state_value):\n",
    "    \n",
    "    state_value = textbox.value\n",
    "    \n",
    "    load_graph = open(f'pickled_data/graphs_pickled/{state_value}_graph.pickle','rb')\n",
    "    fig = pickle.load(load_graph)\n",
    "    load_graph.close()\n",
    "\n",
    "    fig.show()\n",
    "    \n",
    "\n",
    "textbox.observe(widget_fig, names = 'value')"
   ]
  },
  {
   "cell_type": "code",
   "execution_count": 7,
   "metadata": {
    "ExecuteTime": {
     "end_time": "2021-08-01T05:01:20.425326Z",
     "start_time": "2021-08-01T05:01:20.406375Z"
    }
   },
   "outputs": [],
   "source": [
    "import pickle\n",
    "from ipywidgets import widgets\n",
    "import streamlit as st\n",
    "\n",
    "load_states_dict = open('pickled_data/general_data/states.pickle','rb')\n",
    "states = pickle.load(load_states_dict)\n",
    "load_states_dict.close()\n",
    "\n",
    "selection_box = st.selectbox('State: ',\n",
    "                              list(states.keys())\n",
    "                            )\n",
    "\n",
    "def widget_fig(state_value):\n",
    "    \n",
    "    state_value = selection_box\n",
    "    \n",
    "    load_graph = open(f'pickled_data/graphs_pickled/{state_value}_graph.pickle','rb')\n",
    "    fig = pickle.load(load_graph)\n",
    "    load_graph.close()\n",
    "\n",
    "    fig.show()"
   ]
  },
  {
   "cell_type": "code",
   "execution_count": null,
   "metadata": {},
   "outputs": [],
   "source": []
  }
 ],
 "metadata": {
  "kernelspec": {
   "display_name": "Python 3",
   "language": "python",
   "name": "python3"
  },
  "language_info": {
   "codemirror_mode": {
    "name": "ipython",
    "version": 3
   },
   "file_extension": ".py",
   "mimetype": "text/x-python",
   "name": "python",
   "nbconvert_exporter": "python",
   "pygments_lexer": "ipython3",
   "version": "3.8.5"
  },
  "toc": {
   "base_numbering": 1,
   "nav_menu": {},
   "number_sections": true,
   "sideBar": true,
   "skip_h1_title": false,
   "title_cell": "Table of Contents",
   "title_sidebar": "Contents",
   "toc_cell": false,
   "toc_position": {},
   "toc_section_display": true,
   "toc_window_display": false
  },
  "varInspector": {
   "cols": {
    "lenName": 16,
    "lenType": 16,
    "lenVar": 40
   },
   "kernels_config": {
    "python": {
     "delete_cmd_postfix": "",
     "delete_cmd_prefix": "del ",
     "library": "var_list.py",
     "varRefreshCmd": "print(var_dic_list())"
    },
    "r": {
     "delete_cmd_postfix": ") ",
     "delete_cmd_prefix": "rm(",
     "library": "var_list.r",
     "varRefreshCmd": "cat(var_dic_list()) "
    }
   },
   "types_to_exclude": [
    "module",
    "function",
    "builtin_function_or_method",
    "instance",
    "_Feature"
   ],
   "window_display": false
  }
 },
 "nbformat": 4,
 "nbformat_minor": 2
}
